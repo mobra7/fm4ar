{
 "cells": [
  {
   "cell_type": "code",
   "execution_count": 1,
   "metadata": {},
   "outputs": [],
   "source": [
    "from fm4ar.utils.hdf import save_to_hdf\n",
    "import pandas as pd\n",
    "from tqdm import tqdm\n",
    "import numpy as np\n",
    "import h5py"
   ]
  },
  {
   "cell_type": "code",
   "execution_count": 2,
   "metadata": {},
   "outputs": [],
   "source": [
    "df = pd.read_pickle('FM_dataset.pkl')"
   ]
  },
  {
   "cell_type": "code",
   "execution_count": 4,
   "metadata": {},
   "outputs": [
    {
     "data": {
      "text/plain": [
       "0          2.287569\n",
       "1          2.081253\n",
       "2          2.738480\n",
       "3          2.252435\n",
       "4          2.033719\n",
       "             ...   \n",
       "3113105    2.505863\n",
       "3113106    3.051014\n",
       "3113107    2.532559\n",
       "3113108    2.554265\n",
       "3113109    1.621370\n",
       "Name: theta, Length: 3113110, dtype: float64"
      ]
     },
     "execution_count": 4,
     "metadata": {},
     "output_type": "execute_result"
    }
   ],
   "source": [
    "# df['theta'] = [f for f in tqdm(df[['zenith', 'azimuth']].values)]\n",
    "df['theta'] = df['zenith'].values\n",
    "df['theta']"
   ]
  },
  {
   "cell_type": "code",
   "execution_count": 10,
   "metadata": {},
   "outputs": [],
   "source": [
    "# data = {'theta': np.array([vec.flatten() for vec in df['theta'].values]),\n",
    "#         'flux': np.array([vec.flatten() for vec in df['latent_vec'].values])}\n",
    "data = {'theta': np.array([vec.flatten() for vec in df['theta'].values]),\n",
    "         'flux': np.array([vec.flatten() for vec in df['latent_vec'].values])}"
   ]
  },
  {
   "cell_type": "code",
   "execution_count": 11,
   "metadata": {},
   "outputs": [
    {
     "data": {
      "text/plain": [
       "{'theta': array([[2.28756862],\n",
       "        [2.08125283],\n",
       "        [2.73847967],\n",
       "        ...,\n",
       "        [2.53255933],\n",
       "        [2.55426486],\n",
       "        [1.62137027]]),\n",
       " 'flux': array([[  0.      ,   0.      ,   0.      , ...,   0.      ,   0.      ,\n",
       "           0.      ],\n",
       "        [  0.      ,   0.      ,   0.      , ...,   0.      ,   0.      ,\n",
       "           0.      ],\n",
       "        [  0.      , 114.393036,   0.      , ...,   0.      ,   0.      ,\n",
       "           0.      ],\n",
       "        ...,\n",
       "        [  0.      ,   0.      ,   0.      , ...,   0.      ,   0.      ,\n",
       "         121.59051 ],\n",
       "        [  0.      ,   0.      ,   0.      , ...,   0.      ,   0.      ,\n",
       "           0.      ],\n",
       "        [  0.      ,   0.      ,   0.      , ...,   0.      ,   0.      ,\n",
       "           0.      ]], dtype=float32)}"
      ]
     },
     "execution_count": 11,
     "metadata": {},
     "output_type": "execute_result"
    }
   ],
   "source": [
    "data"
   ]
  },
  {
   "cell_type": "code",
   "execution_count": 12,
   "metadata": {},
   "outputs": [],
   "source": [
    "save_to_hdf('./FM_dataset_zenith.hdf', **data)"
   ]
  },
  {
   "cell_type": "code",
   "execution_count": 13,
   "metadata": {},
   "outputs": [
    {
     "name": "stdout",
     "output_type": "stream",
     "text": [
      "<KeysViewHDF5 ['flux', 'theta']>\n",
      "[[  0.         0.         0.       ...   0.         0.         0.      ]\n",
      " [  0.         0.         0.       ...   0.         0.         0.      ]\n",
      " [  0.       114.393036   0.       ...   0.         0.         0.      ]\n",
      " ...\n",
      " [  0.         0.         0.       ...   0.         0.       121.59051 ]\n",
      " [  0.         0.         0.       ...   0.         0.         0.      ]\n",
      " [  0.         0.         0.       ...   0.         0.         0.      ]]\n",
      "[[2.28756862]\n",
      " [2.08125283]\n",
      " [2.73847967]\n",
      " ...\n",
      " [2.53255933]\n",
      " [2.55426486]\n",
      " [1.62137027]]\n"
     ]
    }
   ],
   "source": [
    "with h5py.File('./FM_dataset_zenith.hdf', \"r\") as f:\n",
    "    print(f.keys())  # Output: <KeysViewHDF5 ['array1', 'array2', 'array3']>\n",
    "    print(f['flux'][:])  # Access the data for 'array1'\n",
    "    print(f['theta'][:])  # Access the data for 'array2'\n"
   ]
  },
  {
   "cell_type": "code",
   "execution_count": null,
   "metadata": {},
   "outputs": [],
   "source": [
    "# create data with euclidean theta\n",
    "zenith = df['zenith'].values\n",
    "azimuth = df['azimuth'].values\n",
    "x = np.sin(zenith) * np.cos(azimuth)\n",
    "y = np.sin(zenith) * np.sin(azimuth)\n",
    "z = np.cos(zenith)\n",
    "theta = np.stack([x, y, z], axis=1)\n",
    "data['theta'] = theta\n",
    "save_to_hdf('./FM_dataset_eucl.hdf', **data)"
   ]
  },
  {
   "cell_type": "code",
   "execution_count": 10,
   "metadata": {},
   "outputs": [
    {
     "name": "stdout",
     "output_type": "stream",
     "text": [
      "<KeysViewHDF5 ['flux', 'theta']>\n",
      "[[  0.         0.         0.       ...   0.         0.         0.      ]\n",
      " [  0.         0.         0.       ...   0.         0.         0.      ]\n",
      " [  0.       114.393036   0.       ...   0.         0.         0.      ]\n",
      " ...\n",
      " [  0.         0.         0.       ...   0.         0.       121.59051 ]\n",
      " [  0.         0.         0.       ...   0.         0.         0.      ]\n",
      " [  0.         0.         0.       ...   0.         0.         0.      ]]\n",
      "[[-0.3345449  -0.67564068 -0.65695463]\n",
      " [-0.28909523 -0.82323619 -0.48857561]\n",
      " [-0.20418816  0.33495328 -0.91984428]\n",
      " ...\n",
      " [ 0.48125813  0.30928993 -0.82020141]\n",
      " [-0.53144485 -0.15695843 -0.83242442]\n",
      " [-0.70672651 -0.70567847 -0.05055238]]\n"
     ]
    }
   ],
   "source": [
    "with h5py.File('./FM_dataset_eucl.hdf', \"r\") as f:\n",
    "    print(f.keys())  # Output: <KeysViewHDF5 ['array1', 'array2', 'array3']>\n",
    "    print(f['flux'][:])  # Access the data for 'array1'\n",
    "    print(f['theta'][:])  # Access the data for 'array2'"
   ]
  },
  {
   "cell_type": "code",
   "execution_count": null,
   "metadata": {},
   "outputs": [],
   "source": []
  }
 ],
 "metadata": {
  "kernelspec": {
   "display_name": "graphnet3",
   "language": "python",
   "name": "python3"
  },
  "language_info": {
   "codemirror_mode": {
    "name": "ipython",
    "version": 3
   },
   "file_extension": ".py",
   "mimetype": "text/x-python",
   "name": "python",
   "nbconvert_exporter": "python",
   "pygments_lexer": "ipython3",
   "version": "3.11.0"
  }
 },
 "nbformat": 4,
 "nbformat_minor": 2
}
